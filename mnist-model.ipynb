{
 "cells": [
  {
   "cell_type": "code",
   "execution_count": 1,
   "id": "expanded-running",
   "metadata": {
    "execution": {
     "iopub.execute_input": "2021-06-06T08:48:28.448967Z",
     "iopub.status.busy": "2021-06-06T08:48:28.448358Z",
     "iopub.status.idle": "2021-06-06T08:48:33.610278Z",
     "shell.execute_reply": "2021-06-06T08:48:33.609730Z",
     "shell.execute_reply.started": "2021-06-03T12:29:43.552553Z"
    },
    "papermill": {
     "duration": 5.183591,
     "end_time": "2021-06-06T08:48:33.610429",
     "exception": false,
     "start_time": "2021-06-06T08:48:28.426838",
     "status": "completed"
    },
    "tags": []
   },
   "outputs": [],
   "source": [
    "import numpy as np\n",
    "import tensorflow as tf\n",
    "from tensorflow import keras\n",
    "from tensorflow.keras import layers"
   ]
  },
  {
   "cell_type": "code",
   "execution_count": 2,
   "id": "essential-outside",
   "metadata": {
    "execution": {
     "iopub.execute_input": "2021-06-06T08:48:33.640929Z",
     "iopub.status.busy": "2021-06-06T08:48:33.640155Z",
     "iopub.status.idle": "2021-06-06T08:48:34.219696Z",
     "shell.execute_reply": "2021-06-06T08:48:34.220120Z",
     "shell.execute_reply.started": "2021-06-03T12:29:43.559622Z"
    },
    "papermill": {
     "duration": 0.597648,
     "end_time": "2021-06-06T08:48:34.220268",
     "exception": false,
     "start_time": "2021-06-06T08:48:33.622620",
     "status": "completed"
    },
    "tags": []
   },
   "outputs": [
    {
     "name": "stdout",
     "output_type": "stream",
     "text": [
      "Downloading data from https://storage.googleapis.com/tensorflow/tf-keras-datasets/mnist.npz\n",
      "11493376/11490434 [==============================] - 0s 0us/step\n",
      "x_train shape: (60000, 28, 28, 1)\n",
      "60000 train samples\n",
      "10000 test samples\n"
     ]
    }
   ],
   "source": [
    "num_classes = 10\n",
    "input_shape = (28, 28, 1)\n",
    "\n",
    "# the data, split between train and test sets\n",
    "(x_train, y_train), (x_test, y_test) = keras.datasets.mnist.load_data()\n",
    "\n",
    "# Scale images to the [0, 1] range\n",
    "x_train = x_train.astype(\"float32\") / 255\n",
    "x_test = x_test.astype(\"float32\") / 255\n",
    "# Make sure images have shape (28, 28, 1)\n",
    "x_train = np.expand_dims(x_train, -1)\n",
    "x_test = np.expand_dims(x_test, -1)\n",
    "print(\"x_train shape:\", x_train.shape)\n",
    "print(x_train.shape[0], \"train samples\")\n",
    "print(x_test.shape[0], \"test samples\")\n",
    "\n",
    "\n",
    "# convert class vectors to binary class matrices\n",
    "y_train = keras.utils.to_categorical(y_train, num_classes)\n",
    "y_test = keras.utils.to_categorical(y_test, num_classes)"
   ]
  },
  {
   "cell_type": "code",
   "execution_count": 3,
   "id": "charitable-secret",
   "metadata": {
    "execution": {
     "iopub.execute_input": "2021-06-06T08:48:34.266161Z",
     "iopub.status.busy": "2021-06-06T08:48:34.265504Z",
     "iopub.status.idle": "2021-06-06T08:48:34.555520Z",
     "shell.execute_reply": "2021-06-06T08:48:34.555946Z",
     "shell.execute_reply.started": "2021-06-03T12:29:43.916794Z"
    },
    "papermill": {
     "duration": 0.321217,
     "end_time": "2021-06-06T08:48:34.556082",
     "exception": false,
     "start_time": "2021-06-06T08:48:34.234865",
     "status": "completed"
    },
    "tags": []
   },
   "outputs": [
    {
     "data": {
      "text/plain": [
       "<matplotlib.image.AxesImage at 0x7fe4f00b8d50>"
      ]
     },
     "execution_count": 3,
     "metadata": {},
     "output_type": "execute_result"
    },
    {
     "data": {
      "image/png": "[encoded data removed]",
      "text/plain": [
       "<Figure size 432x288 with 4 Axes>"
      ]
     },
     "metadata": {
      "needs_background": "light"
     },
     "output_type": "display_data"
    }
   ],
   "source": [
    "import matplotlib.pyplot as plt\n",
    "\n",
    "plt.subplot(221)\n",
    "plt.imshow(x_train[0])\n",
    "\n",
    "plt.subplot(222)\n",
    "plt.imshow(x_train[1])\n",
    "\n",
    "plt.subplot(223)\n",
    "plt.imshow(x_train[2])\n",
    "\n",
    "plt.subplot(224)\n",
    "plt.imshow(x_train[3])"
   ]
  },
  {
   "cell_type": "code",
   "execution_count": 4,
   "id": "thorough-hughes",
   "metadata": {
    "execution": {
     "iopub.execute_input": "2021-06-06T08:48:34.598338Z",
     "iopub.status.busy": "2021-06-06T08:48:34.597546Z",
     "iopub.status.idle": "2021-06-06T08:48:34.692050Z",
     "shell.execute_reply": "2021-06-06T08:48:34.692657Z",
     "shell.execute_reply.started": "2021-06-03T12:29:44.34668Z"
    },
    "papermill": {
     "duration": 0.122652,
     "end_time": "2021-06-06T08:48:34.692791",
     "exception": false,
     "start_time": "2021-06-06T08:48:34.570139",
     "status": "completed"
    },
    "tags": []
   },
   "outputs": [
    {
     "name": "stdout",
     "output_type": "stream",
     "text": [
      "[0. 0. 0. 0. 0. 1. 0. 0. 0. 0.]\n"
     ]
    },
    {
     "data": {
      "image/png": "[encoded data removed]",
      "text/plain": [
       "<Figure size 432x288 with 1 Axes>"
      ]
     },
     "metadata": {
      "needs_background": "light"
     },
     "output_type": "display_data"
    }
   ],
   "source": [
    "import matplotlib.pyplot as plt\n",
    "\n",
    "image_index = 35\n",
    "print(y_train[image_index])\n",
    "plt.imshow(x_train[image_index], cmap='Greys')\n",
    "plt.show()"
   ]
  },
  {
   "cell_type": "code",
   "execution_count": 5,
   "id": "resident-western",
   "metadata": {
    "execution": {
     "iopub.execute_input": "2021-06-06T08:48:34.727547Z",
     "iopub.status.busy": "2021-06-06T08:48:34.727070Z",
     "iopub.status.idle": "2021-06-06T08:48:36.790858Z",
     "shell.execute_reply": "2021-06-06T08:48:36.791236Z",
     "shell.execute_reply.started": "2021-06-03T12:29:44.522166Z"
    },
    "papermill": {
     "duration": 2.083655,
     "end_time": "2021-06-06T08:48:36.791388",
     "exception": false,
     "start_time": "2021-06-06T08:48:34.707733",
     "status": "completed"
    },
    "tags": []
   },
   "outputs": [
    {
     "name": "stdout",
     "output_type": "stream",
     "text": [
      "Model: \"sequential\"\n",
      "_________________________________________________________________\n",
      "Layer (type)                 Output Shape              Param #   \n",
      "=================================================================\n",
      "conv2d (Conv2D)              (None, 26, 26, 32)        320       \n",
      "_________________________________________________________________\n",
      "max_pooling2d (MaxPooling2D) (None, 13, 13, 32)        0         \n",
      "_________________________________________________________________\n",
      "conv2d_1 (Conv2D)            (None, 11, 11, 64)        18496     \n",
      "_________________________________________________________________\n",
      "max_pooling2d_1 (MaxPooling2 (None, 5, 5, 64)          0         \n",
      "_________________________________________________________________\n",
      "flatten (Flatten)            (None, 1600)              0         \n",
      "_________________________________________________________________\n",
      "dropout (Dropout)            (None, 1600)              0         \n",
      "_________________________________________________________________\n",
      "dense (Dense)                (None, 10)                16010     \n",
      "=================================================================\n",
      "Total params: 34,826\n",
      "Trainable params: 34,826\n",
      "Non-trainable params: 0\n",
      "_________________________________________________________________\n"
     ]
    }
   ],
   "source": [
    "model = keras.Sequential(\n",
    "    [\n",
    "        keras.Input(shape=input_shape),\n",
    "        layers.Conv2D(32, kernel_size=(3, 3), activation=\"relu\"),\n",
    "        layers.MaxPooling2D(pool_size=(2, 2)),\n",
    "        layers.Conv2D(64, kernel_size=(3, 3), activation=\"relu\"),\n",
    "        layers.MaxPooling2D(pool_size=(2, 2)),\n",
    "        layers.Flatten(),\n",
    "        layers.Dropout(0.5),\n",
    "        layers.Dense(num_classes, activation=\"softmax\"),\n",
    "    ]\n",
    ")\n",
    "\n",
    "model.summary()"
   ]
  },
  {
   "cell_type": "code",
   "execution_count": 6,
   "id": "retired-double",
   "metadata": {
    "execution": {
     "iopub.execute_input": "2021-06-06T08:48:36.826967Z",
     "iopub.status.busy": "2021-06-06T08:48:36.826194Z",
     "iopub.status.idle": "2021-06-06T08:48:37.249912Z",
     "shell.execute_reply": "2021-06-06T08:48:37.250333Z",
     "shell.execute_reply.started": "2021-06-03T12:29:44.593233Z"
    },
    "papermill": {
     "duration": 0.443401,
     "end_time": "2021-06-06T08:48:37.250478",
     "exception": false,
     "start_time": "2021-06-06T08:48:36.807077",
     "status": "completed"
    },
    "tags": []
   },
   "outputs": [
    {
     "data": {
      "image/png": "[encoded data removed]",
      "text/plain": [
       "<IPython.core.display.Image object>"
      ]
     },
     "execution_count": 6,
     "metadata": {},
     "output_type": "execute_result"
    }
   ],
   "source": [
    "keras.utils.plot_model(\n",
    "    model,\n",
    "    to_file=\"model.png\",\n",
    "    show_shapes=True,\n",
    "    show_layer_names=True,\n",
    "    rankdir=\"TB\",\n",
    "    expand_nested=True,\n",
    "    dpi=96,\n",
    ")"
   ]
  },
  {
   "cell_type": "code",
   "execution_count": 7,
   "id": "careful-leave",
   "metadata": {
    "execution": {
     "iopub.execute_input": "2021-06-06T08:48:37.296823Z",
     "iopub.status.busy": "2021-06-06T08:48:37.296022Z",
     "iopub.status.idle": "2021-06-06T08:49:20.561755Z",
     "shell.execute_reply": "2021-06-06T08:49:20.561284Z",
     "shell.execute_reply.started": "2021-06-03T12:29:44.775857Z"
    },
    "papermill": {
     "duration": 43.294684,
     "end_time": "2021-06-06T08:49:20.561892",
     "exception": false,
     "start_time": "2021-06-06T08:48:37.267208",
     "status": "completed"
    },
    "tags": []
   },
   "outputs": [
    {
     "name": "stdout",
     "output_type": "stream",
     "text": [
      "Epoch 1/15\n",
      "422/422 [==============================] - 7s 7ms/step - loss: 0.7826 - accuracy: 0.7536 - val_loss: 0.0850 - val_accuracy: 0.9778\n",
      "Epoch 2/15\n",
      "422/422 [==============================] - 3s 6ms/step - loss: 0.1222 - accuracy: 0.9630 - val_loss: 0.0586 - val_accuracy: 0.9827\n",
      "Epoch 3/15\n",
      "422/422 [==============================] - 2s 6ms/step - loss: 0.0875 - accuracy: 0.9737 - val_loss: 0.0461 - val_accuracy: 0.9873\n",
      "Epoch 4/15\n",
      "422/422 [==============================] - 2s 6ms/step - loss: 0.0726 - accuracy: 0.9769 - val_loss: 0.0399 - val_accuracy: 0.9898\n",
      "Epoch 5/15\n",
      "422/422 [==============================] - 3s 6ms/step - loss: 0.0604 - accuracy: 0.9809 - val_loss: 0.0377 - val_accuracy: 0.9888\n",
      "Epoch 6/15\n",
      "422/422 [==============================] - 2s 6ms/step - loss: 0.0544 - accuracy: 0.9827 - val_loss: 0.0354 - val_accuracy: 0.9903\n",
      "Epoch 7/15\n",
      "422/422 [==============================] - 2s 6ms/step - loss: 0.0502 - accuracy: 0.9841 - val_loss: 0.0347 - val_accuracy: 0.9900\n",
      "Epoch 8/15\n",
      "422/422 [==============================] - 2s 6ms/step - loss: 0.0473 - accuracy: 0.9847 - val_loss: 0.0309 - val_accuracy: 0.9923\n",
      "Epoch 9/15\n",
      "422/422 [==============================] - 3s 6ms/step - loss: 0.0441 - accuracy: 0.9859 - val_loss: 0.0298 - val_accuracy: 0.9905\n",
      "Epoch 10/15\n",
      "422/422 [==============================] - 2s 6ms/step - loss: 0.0419 - accuracy: 0.9857 - val_loss: 0.0288 - val_accuracy: 0.9920\n",
      "Epoch 11/15\n",
      "422/422 [==============================] - 2s 6ms/step - loss: 0.0383 - accuracy: 0.9880 - val_loss: 0.0302 - val_accuracy: 0.9910\n",
      "Epoch 12/15\n",
      "422/422 [==============================] - 2s 6ms/step - loss: 0.0360 - accuracy: 0.9891 - val_loss: 0.0307 - val_accuracy: 0.9917\n",
      "Epoch 13/15\n",
      "422/422 [==============================] - 3s 6ms/step - loss: 0.0365 - accuracy: 0.9880 - val_loss: 0.0286 - val_accuracy: 0.9913\n",
      "Epoch 14/15\n",
      "422/422 [==============================] - 3s 6ms/step - loss: 0.0341 - accuracy: 0.9894 - val_loss: 0.0287 - val_accuracy: 0.9928\n",
      "Epoch 15/15\n",
      "422/422 [==============================] - 3s 6ms/step - loss: 0.0292 - accuracy: 0.9902 - val_loss: 0.0260 - val_accuracy: 0.9927\n"
     ]
    }
   ],
   "source": [
    "model.compile(loss=\"categorical_crossentropy\", optimizer=\"adam\", metrics=[\"accuracy\"])\n",
    "\n",
    "log_dir = \"logs/fit/\"\n",
    "tensorboard_callback = tf.keras.callbacks.TensorBoard(log_dir=log_dir, histogram_freq=1)\n",
    "\n",
    "history = model.fit(x_train, y_train, batch_size=128, epochs=15, validation_split=0.1)"
   ]
  },
  {
   "cell_type": "code",
   "execution_count": 8,
   "id": "aerial-lunch",
   "metadata": {
    "execution": {
     "iopub.execute_input": "2021-06-06T08:49:20.940547Z",
     "iopub.status.busy": "2021-06-06T08:49:20.939662Z",
     "iopub.status.idle": "2021-06-06T08:49:21.671365Z",
     "shell.execute_reply": "2021-06-06T08:49:21.670734Z",
     "shell.execute_reply.started": "2021-06-03T12:30:25.784969Z"
    },
    "papermill": {
     "duration": 0.923196,
     "end_time": "2021-06-06T08:49:21.671525",
     "exception": false,
     "start_time": "2021-06-06T08:49:20.748329",
     "status": "completed"
    },
    "scrolled": true,
    "tags": []
   },
   "outputs": [
    {
     "name": "stdout",
     "output_type": "stream",
     "text": [
      "Test loss: 0.02432098612189293\n",
      "Test accuracy: 0.9919000267982483\n"
     ]
    }
   ],
   "source": [
    "score = model.evaluate(x_test, y_test, verbose=0)\n",
    "print(\"Test loss:\", score[0])\n",
    "print(\"Test accuracy:\", score[1])"
   ]
  },
  {
   "cell_type": "code",
   "execution_count": 9,
   "id": "mechanical-finger",
   "metadata": {
    "execution": {
     "iopub.execute_input": "2021-06-06T08:49:22.054554Z",
     "iopub.status.busy": "2021-06-06T08:49:22.054015Z",
     "iopub.status.idle": "2021-06-06T08:49:22.077861Z",
     "shell.execute_reply": "2021-06-06T08:49:22.077388Z",
     "shell.execute_reply.started": "2021-06-03T12:30:26.330448Z"
    },
    "papermill": {
     "duration": 0.219912,
     "end_time": "2021-06-06T08:49:22.077984",
     "exception": false,
     "start_time": "2021-06-06T08:49:21.858072",
     "status": "completed"
    },
    "tags": []
   },
   "outputs": [],
   "source": [
    "model.save('mnist_model.h5')"
   ]
  },
  {
   "cell_type": "code",
   "execution_count": 10,
   "id": "comprehensive-medicare",
   "metadata": {
    "execution": {
     "iopub.execute_input": "2021-06-06T08:49:22.467784Z",
     "iopub.status.busy": "2021-06-06T08:49:22.466728Z",
     "iopub.status.idle": "2021-06-06T08:49:22.563501Z",
     "shell.execute_reply": "2021-06-06T08:49:22.563929Z",
     "shell.execute_reply.started": "2021-06-03T12:30:26.360786Z"
    },
    "papermill": {
     "duration": 0.301527,
     "end_time": "2021-06-06T08:49:22.564067",
     "exception": false,
     "start_time": "2021-06-06T08:49:22.262540",
     "status": "completed"
    },
    "tags": []
   },
   "outputs": [
    {
     "data": {
      "image/png": "[encoded data removed]",
      "text/plain": [
       "<Figure size 432x288 with 1 Axes>"
      ]
     },
     "metadata": {
      "needs_background": "light"
     },
     "output_type": "display_data"
    }
   ],
   "source": [
    "import matplotlib.pyplot as plt\n",
    "\n",
    "plt.imshow(x_train[0], cmap = plt.cm.binary)\n",
    "plt.show()\n"
   ]
  },
  {
   "cell_type": "code",
   "execution_count": 11,
   "id": "gothic-farming",
   "metadata": {
    "execution": {
     "iopub.execute_input": "2021-06-06T08:49:22.938598Z",
     "iopub.status.busy": "2021-06-06T08:49:22.937926Z",
     "iopub.status.idle": "2021-06-06T08:49:23.137865Z",
     "shell.execute_reply": "2021-06-06T08:49:23.137385Z",
     "shell.execute_reply.started": "2021-06-03T12:30:26.482068Z"
    },
    "papermill": {
     "duration": 0.388865,
     "end_time": "2021-06-06T08:49:23.137997",
     "exception": false,
     "start_time": "2021-06-06T08:49:22.749132",
     "status": "completed"
    },
    "tags": []
   },
   "outputs": [],
   "source": [
    "from keras.models import load_model\n",
    "model = load_model('mnist_model.h5')"
   ]
  },
  {
   "cell_type": "code",
   "execution_count": 12,
   "id": "rental-entrepreneur",
   "metadata": {
    "execution": {
     "iopub.execute_input": "2021-06-06T08:49:23.513151Z",
     "iopub.status.busy": "2021-06-06T08:49:23.512260Z",
     "iopub.status.idle": "2021-06-06T08:49:23.946989Z",
     "shell.execute_reply": "2021-06-06T08:49:23.947407Z",
     "shell.execute_reply.started": "2021-06-03T12:30:26.565859Z"
    },
    "papermill": {
     "duration": 0.624668,
     "end_time": "2021-06-06T08:49:23.947591",
     "exception": false,
     "start_time": "2021-06-06T08:49:23.322923",
     "status": "completed"
    },
    "tags": []
   },
   "outputs": [],
   "source": [
    "predictions = model.predict([x_test])"
   ]
  },
  {
   "cell_type": "code",
   "execution_count": 13,
   "id": "beginning-comfort",
   "metadata": {
    "execution": {
     "iopub.execute_input": "2021-06-06T08:49:24.323060Z",
     "iopub.status.busy": "2021-06-06T08:49:24.322498Z",
     "iopub.status.idle": "2021-06-06T08:49:24.328825Z",
     "shell.execute_reply": "2021-06-06T08:49:24.328149Z",
     "shell.execute_reply.started": "2021-06-03T12:30:26.92185Z"
    },
    "papermill": {
     "duration": 0.196105,
     "end_time": "2021-06-06T08:49:24.328984",
     "exception": false,
     "start_time": "2021-06-06T08:49:24.132879",
     "status": "completed"
    },
    "tags": []
   },
   "outputs": [
    {
     "name": "stdout",
     "output_type": "stream",
     "text": [
      "[[8.5688838e-11 4.5393502e-12 4.3680350e-07 ... 9.9999928e-01\n",
      "  5.1829785e-10 9.3944500e-08]\n",
      " [8.5017058e-07 1.2018725e-06 9.9999630e-01 ... 3.9440473e-12\n",
      "  4.8157477e-07 8.0941840e-13]\n",
      " [2.1465522e-07 9.9943179e-01 6.0013272e-06 ... 8.1148290e-05\n",
      "  1.0754519e-05 1.0453681e-07]\n",
      " ...\n",
      " [1.2140324e-14 2.5470314e-12 1.6537432e-13 ... 5.0095783e-10\n",
      "  2.6676057e-09 2.8238585e-09]\n",
      " [3.8059491e-07 5.5894888e-14 1.8716813e-09 ... 1.1966752e-12\n",
      "  1.5918294e-04 8.2450242e-09]\n",
      " [4.3472429e-07 3.8365228e-13 1.3719721e-05 ... 1.3286040e-12\n",
      "  1.7589166e-06 1.8528193e-10]]\n"
     ]
    }
   ],
   "source": [
    "print(predictions)"
   ]
  },
  {
   "cell_type": "code",
   "execution_count": 14,
   "id": "sought-consolidation",
   "metadata": {
    "execution": {
     "iopub.execute_input": "2021-06-06T08:49:24.737314Z",
     "iopub.status.busy": "2021-06-06T08:49:24.731706Z",
     "iopub.status.idle": "2021-06-06T08:49:24.816993Z",
     "shell.execute_reply": "2021-06-06T08:49:24.817354Z",
     "shell.execute_reply.started": "2021-06-03T12:30:26.931129Z"
    },
    "papermill": {
     "duration": 0.298026,
     "end_time": "2021-06-06T08:49:24.817487",
     "exception": false,
     "start_time": "2021-06-06T08:49:24.519461",
     "status": "completed"
    },
    "tags": []
   },
   "outputs": [
    {
     "data": {
      "image/png": "[encoded data removed]",
      "text/plain": [
       "<Figure size 432x288 with 1 Axes>"
      ]
     },
     "metadata": {
      "needs_background": "light"
     },
     "output_type": "display_data"
    }
   ],
   "source": [
    "plt.imshow(x_test[0])\n",
    "plt.show()"
   ]
  },
  {
   "cell_type": "code",
   "execution_count": 15,
   "id": "atlantic-observer",
   "metadata": {
    "execution": {
     "iopub.execute_input": "2021-06-06T08:49:25.197096Z",
     "iopub.status.busy": "2021-06-06T08:49:25.196443Z",
     "iopub.status.idle": "2021-06-06T08:49:25.199936Z",
     "shell.execute_reply": "2021-06-06T08:49:25.200303Z",
     "shell.execute_reply.started": "2021-06-03T12:30:27.055512Z"
    },
    "papermill": {
     "duration": 0.196286,
     "end_time": "2021-06-06T08:49:25.200433",
     "exception": false,
     "start_time": "2021-06-06T08:49:25.004147",
     "status": "completed"
    },
    "tags": []
   },
   "outputs": [
    {
     "name": "stdout",
     "output_type": "stream",
     "text": [
      "7\n"
     ]
    }
   ],
   "source": [
    "import numpy as np\n",
    "\n",
    "print(np.argmax(predictions[0]))"
   ]
  },
  {
   "cell_type": "code",
   "execution_count": 16,
   "id": "solved-nylon",
   "metadata": {
    "execution": {
     "iopub.execute_input": "2021-06-06T08:49:25.591649Z",
     "iopub.status.busy": "2021-06-06T08:49:25.590839Z",
     "iopub.status.idle": "2021-06-06T08:49:25.681598Z",
     "shell.execute_reply": "2021-06-06T08:49:25.681088Z",
     "shell.execute_reply.started": "2021-06-03T12:30:27.063002Z"
    },
    "papermill": {
     "duration": 0.295345,
     "end_time": "2021-06-06T08:49:25.681708",
     "exception": false,
     "start_time": "2021-06-06T08:49:25.386363",
     "status": "completed"
    },
    "tags": []
   },
   "outputs": [
    {
     "data": {
      "image/png": "[encoded data removed]",
      "text/plain": [
       "<Figure size 432x288 with 1 Axes>"
      ]
     },
     "metadata": {
      "needs_background": "light"
     },
     "output_type": "display_data"
    }
   ],
   "source": [
    "plt.imshow(x_test[7])\n",
    "plt.show()"
   ]
  },
  {
   "cell_type": "code",
   "execution_count": 17,
   "id": "hired-quality",
   "metadata": {
    "execution": {
     "iopub.execute_input": "2021-06-06T08:49:26.065115Z",
     "iopub.status.busy": "2021-06-06T08:49:26.064435Z",
     "iopub.status.idle": "2021-06-06T08:49:26.067595Z",
     "shell.execute_reply": "2021-06-06T08:49:26.068285Z",
     "shell.execute_reply.started": "2021-06-03T12:30:27.191538Z"
    },
    "papermill": {
     "duration": 0.19926,
     "end_time": "2021-06-06T08:49:26.068471",
     "exception": false,
     "start_time": "2021-06-06T08:49:25.869211",
     "status": "completed"
    },
    "tags": []
   },
   "outputs": [
    {
     "name": "stdout",
     "output_type": "stream",
     "text": [
      "9\n"
     ]
    }
   ],
   "source": [
    "import numpy as np\n",
    "\n",
    "print(np.argmax(predictions[7]))"
   ]
  }
 ],
 "metadata": {
  "kernelspec": {
   "display_name": "Python 3",
   "language": "python",
   "name": "python3"
  },
  "language_info": {
   "codemirror_mode": {
    "name": "ipython",
    "version": 3
   },
   "file_extension": ".py",
   "mimetype": "text/x-python",
   "name": "python",
   "nbconvert_exporter": "python",
   "pygments_lexer": "ipython3",
   "version": "3.7.10"
  },
  "papermill": {
   "default_parameters": {},
   "duration": 66.688486,
   "end_time": "2021-06-06T08:49:28.636893",
   "environment_variables": {},
   "exception": null,
   "input_path": "__notebook__.ipynb",
   "output_path": "__notebook__.ipynb",
   "parameters": {},
   "start_time": "2021-06-06T08:48:21.948407",
   "version": "2.3.3"
  }
 },
 "nbformat": 4,
 "nbformat_minor": 5
}
