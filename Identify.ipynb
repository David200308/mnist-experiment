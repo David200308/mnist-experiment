{
 "cells": [
  {
   "cell_type": "code",
   "execution_count": 4,
   "id": "fewer-prefix",
   "metadata": {},
   "outputs": [],
   "source": [
    "import numpy as np\n",
    "import tensorflow as tf\n",
    "from tensorflow import keras\n",
    "import os\n",
    "from keras.preprocessing import image\n",
    "from keras.models import load_model\n",
    "model = load_model('mnist_model.h5')"
   ]
  },
  {
   "cell_type": "code",
   "execution_count": 5,
   "id": "blind-morocco",
   "metadata": {},
   "outputs": [],
   "source": [
    "im = []\n",
    "image_path = \".\\image\"\n",
    "for img in os.listdir(image_path):\n",
    "    img = os.path.join(image_path, img)\n",
    "    img = image.load_img(img, color_mode = \"grayscale\", target_size = (28, 28))\n",
    "    \n",
    "    img = image.img_to_array(img)\n",
    "    img = img.reshape(1,28,28,1)\n",
    "    \n",
    "    img = img.astype('float32')\n",
    "    img = img / 255.0\n",
    "    im.append(img)\n",
    "im = np.vstack(im)\n"
   ]
  },
  {
   "cell_type": "code",
   "execution_count": 6,
   "id": "lightweight-thirty",
   "metadata": {},
   "outputs": [
    {
     "name": "stdout",
     "output_type": "stream",
     "text": [
      "['10_9.jpg', '11_7.jpg', '12_8.jpg', '13_7.jpg', '14_5.jpg', '15_7.jpg', '16_8.jpg', '17_3.jpg', '18_8.jpg', '19_8.jpg', '1_9.jpg', '20_7.jpg', '21_2.jpg', '22_8.jpg', '23_4.jpg', '24_9.jpg', '25_7.jpg', '26_9.jpg', '27_8.jpg', '28_2.jpg', '29_6.jpg', '2_6.jpg', '30_1.jpg', '31_5.jpg', '32_7.jpg', '33_9.jpg', '34_8.jpg', '35_0.jpg', '36_2.jpg', '37_3.jpg', '38_4.jpg', '39_5.jpg', '3_8.jpg', '40_7.jpg', '41_9.jpg', '42_3.jpg', '43_2.jpg', '44_2.jpg', '45_7.jpg', '46_8.jpg', '47_7.jpg', '48_7.jpg', '49_3.jpg', '4_7.jpg', '50_7.jpg', '51_8.jpg', '52_6.jpg', '53_2.jpg', '54_4.jpg', '55_5.jpg', '56_6.jpg', '57_8.jpg', '58_9.jpg', '59_8.jpg', '5_1.jpg', '60_7.jpg', '61_6.jpg', '62_7.jpg', '63_2.jpg', '64_4.jpg', '65_8.jpg', '66_2.jpg', '67_6.jpg', '68_7.jpg', '69_7.jpg', '6_5.jpg', '70_5.jpg', '71_6.jpg', '72_1.jpg', '73_4.jpg', '74_9.jpg', '75_4.jpg', '76_7.jpg', '77_2.jpg', '78_8.jpg', '79_8.jpg', '7_3.jpg', '80_3.jpg', '8_2.jpg', '9_8.jpg']\n",
      "[9 7 8 7 5 7 8 3 3 8 3 1 2 8 8 1 7 7 8 3 6 2 4 5 7 3 3 0 2 3 5 9 8 2 7 3 2\n",
      " 2 7 8 7 7 3 7 7 9 6 2 2 7 5 8 7 8 4 3 3 7 2 4 3 2 6 2 6 5 5 6 5 5 9 4 7 2\n",
      " 8 8 3 3 2 8]\n"
     ]
    }
   ],
   "source": [
    "filenames = []\n",
    "for filename in os.listdir(image_path):\n",
    "    classes = model.predict_classes(im, batch_size = 128)\n",
    "    filenames.append(filename)\n",
    "print(filenames)\n",
    "print(classes)"
   ]
  },
  {
   "cell_type": "markdown",
   "id": "foreign-norway",
   "metadata": {},
   "source": [
    "Real Number: 9 7 8 7 5 7 8 3 8 8 9 7 2 8 4 9 7 9 8 2 6 6 1 5 7 9 8 0 2 3 4 5 8 7 9 3 2 2 7 8 7 7 3 7 7 8 6 2 4 5 6 8 9 8 1 7 6 7 2 4 8 2 6 7 7 5 5 6 1 4 9 4 7 2 8 8 3 3 2 8\n",
    "\n",
    "mnist_model Test: 9 7 8 7 5 7 8 3 3 8 3 1 2 8 8 1 7 7 8 3 6 2 4 5 7 3 3 0 2 3 5 9 8 2 7 3 2 2 7 8 7 7 3 7 7 9 6 2 2 7 5 8 7 8 4 3 3 7 2 4 3 2 6 2 6 5 5 6 5 5 9 4 7 2 8 8 3 3 2 8 (65%)\n",
    "\n",
    "mnist_2 Test: 9 7 8 7 8 7 8 9 4 8 4 1 2 8 8 4 7 8 8 4 6 4 0 0 7 0 4 9 2 3 8 9 8 0 9 8 2 2 7 8 7 7 4 4 1 4 4 9 4 1 4 4 4 8 4 7 8 1 0 4 0 4 8 0 4 9 0 4 1 4 4 4 7 2 8 8 8 3 2 8 (46.25%)\n",
    "\n",
    "mnist_1 Test: 9 7 8 7 5 7 8 9 7 8 3 1 2 8 8 7 7 9 8 2 6 2 0 3 7 3 3 8 2 3 9 7 8 3 3 3 2 2 7 3 7 7 3 7 1 5 6 3 3 7 5 8 8 3 4 3 7 7 3 9 3 2 6 2 5 5 3 6 3 3 9 4 7 2 8 8 3 3 2 8 (55%)\n"
   ]
  },
  {
   "cell_type": "code",
   "execution_count": 7,
   "id": "brief-space",
   "metadata": {},
   "outputs": [
    {
     "name": "stdout",
     "output_type": "stream",
     "text": [
      "Accuracy =  0.65\n"
     ]
    }
   ],
   "source": [
    "Accuracy = 52/80\n",
    "print(\"Accuracy = \",Accuracy)"
   ]
  },
  {
   "cell_type": "markdown",
   "id": "loaded-discretion",
   "metadata": {},
   "source": [
    "mnist_2 (99.44%)\n",
    "mnist_model (99.22%)"
   ]
  },
  {
   "cell_type": "code",
   "execution_count": null,
   "id": "turkish-church",
   "metadata": {},
   "outputs": [],
   "source": []
  }
 ],
 "metadata": {
  "kernelspec": {
   "display_name": "Python 3",
   "language": "python",
   "name": "python3"
  },
  "language_info": {
   "codemirror_mode": {
    "name": "ipython",
    "version": 3
   },
   "file_extension": ".py",
   "mimetype": "text/x-python",
   "name": "python",
   "nbconvert_exporter": "python",
   "pygments_lexer": "ipython3",
   "version": "3.8.10"
  }
 },
 "nbformat": 4,
 "nbformat_minor": 5
}
